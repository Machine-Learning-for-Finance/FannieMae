{
 "cells": [
  {
   "cell_type": "code",
   "execution_count": 6,
   "metadata": {},
   "outputs": [],
   "source": [
    "import pandas as pd\n",
    "import numpy as np\n",
    "import matplotlib.pyplot as plt"
   ]
  },
  {
   "cell_type": "code",
   "execution_count": 34,
   "metadata": {},
   "outputs": [],
   "source": [
    "# https://pandas.pydata.org/pandas-docs/stable/reference/api/pandas.read_csv.html\n",
    "\n",
    "aq_df = pd.read_csv(\n",
    "    \"/data/FannieMae/2010Q1/Acquisition_2010Q1.txt\"\n",
    ")"
   ]
  },
  {
   "cell_type": "code",
   "execution_count": 41,
   "metadata": {},
   "outputs": [
    {
     "name": "stdout",
     "output_type": "stream",
     "text": [
      "Index(['0'], dtype='object')\n"
     ]
    }
   ],
   "source": [
    "len(aq_df.columns[0])\n",
    "print(aq_df.columns)"
   ]
  },
  {
   "cell_type": "code",
   "execution_count": 42,
   "metadata": {},
   "outputs": [],
   "source": [
    "col_names = [\n",
    "    f\"{idx}\" for idx, _ in enumerate(df.columns[0])\n",
    "]"
   ]
  },
  {
   "cell_type": "code",
   "execution_count": 58,
   "metadata": {},
   "outputs": [],
   "source": [
    "aq_df = pd.read_csv(\n",
    "    \"/data/FannieMae/2010Q1/Acquisition_2010Q1.txt\",\n",
    "    sep=\"|\"\n",
    ")\n",
    "NAMES = {\n",
    "    \n",
    "}\n",
    "col_names = [\n",
    "    NAMES.get(idx, f\"{idx}\") for idx, _ in enumerate(range(25))\n",
    "]\n",
    "aq_df = pd.read_csv(\n",
    "    \"/data/FannieMae/2010Q1/Acquisition_2010Q1.txt\",\n",
    "    header=None,\n",
    "    names=col_names,\n",
    "    sep=\"|\"\n",
    ")"
   ]
  },
  {
   "cell_type": "code",
   "execution_count": 60,
   "metadata": {},
   "outputs": [
    {
     "name": "stdout",
     "output_type": "stream",
     "text": [
      "Index(['0', '1', '2', '3', '4', '5', '6', '7', '8', '9', '10', '11', '12',\n",
      "       '13', '14', '15', '16', '17', '18', '19', '20', '21', '22', '23', '24'],\n",
      "      dtype='object')\n"
     ]
    },
    {
     "data": {
      "text/plain": [
       "0         100010079393\n",
       "1         100013622306\n",
       "2         100019943199\n",
       "3         100022098429\n",
       "4         100023088745\n",
       "              ...     \n",
       "323169    999990451380\n",
       "323170    999993511488\n",
       "323171    999993982336\n",
       "323172    999998369629\n",
       "323173    999999167522\n",
       "Name: 0, Length: 323174, dtype: int64"
      ]
     },
     "execution_count": 60,
     "metadata": {},
     "output_type": "execute_result"
    }
   ],
   "source": [
    "print(aq_df.columns)\n",
    "aq_df['0']"
   ]
  },
  {
   "cell_type": "code",
   "execution_count": 61,
   "metadata": {},
   "outputs": [
    {
     "name": "stdout",
     "output_type": "stream",
     "text": [
      "Using ID: 100013622306\n"
     ]
    }
   ],
   "source": [
    "IDS = aq_df[\"0\"]\n",
    "idx = IDS[1]\n",
    "print(f\"Using ID: {idx}\")"
   ]
  },
  {
   "cell_type": "code",
   "execution_count": 62,
   "metadata": {},
   "outputs": [
    {
     "name": "stderr",
     "output_type": "stream",
     "text": [
      "/home/capcolabs/Environments/FannieData/venv/lib/python3.7/site-packages/IPython/core/interactiveshell.py:3058: DtypeWarning: Columns (14,15,16) have mixed types. Specify dtype option on import or set low_memory=False.\n",
      "  interactivity=interactivity, compiler=compiler, result=result)\n"
     ]
    }
   ],
   "source": [
    "per_df = pd.read_csv(\n",
    "    \"/data/FannieMae/2010Q1/Performance_2010Q1.txt\",\n",
    "    sep=\"|\"\n",
    ")\n",
    "col_names = [\n",
    "    f\"{idx}\" for idx, _ in enumerate(per_df.columns)\n",
    "]\n",
    "per_df = pd.read_csv(\n",
    "    \"/data/FannieMae/2010Q1/Performance_2010Q1.txt\",\n",
    "    header=None,\n",
    "    names=col_names,\n",
    "    sep=\"|\"\n",
    ")"
   ]
  },
  {
   "cell_type": "code",
   "execution_count": 65,
   "metadata": {},
   "outputs": [
    {
     "name": "stdout",
     "output_type": "stream",
     "text": [
      "                0           1                         2     3         4    5  \\\n",
      "12   100013622306  01/01/2010  JP MORGAN CHASE BANK, NA  4.75       NaN    0   \n",
      "13   100013622306  02/01/2010                       NaN  4.75       NaN    1   \n",
      "14   100013622306  03/01/2010                       NaN  4.75       NaN    2   \n",
      "15   100013622306  04/01/2010                       NaN  4.75       NaN    3   \n",
      "16   100013622306  05/01/2010                       NaN  4.75       NaN    4   \n",
      "..            ...         ...                       ...   ...       ...  ...   \n",
      "118  100013622306  11/01/2018                       NaN  4.75  42829.43  106   \n",
      "119  100013622306  12/01/2018                       NaN  4.75  42322.24  107   \n",
      "120  100013622306  01/01/2019                       NaN  4.75  41813.05  108   \n",
      "121  100013622306  02/01/2019                       NaN  4.75  41813.05  109   \n",
      "122  100013622306  03/01/2019                       NaN  4.75  40788.61  110   \n",
      "\n",
      "       6      7        8      9  ...  21  22  23  24  25  26  27   28  29  30  \n",
      "12   180  179.0  01/2025  47300  ... NaN NaN NaN NaN NaN NaN NaN  NaN NaN   N  \n",
      "13   179  178.0  01/2025  47300  ... NaN NaN NaN NaN NaN NaN NaN  NaN NaN   N  \n",
      "14   178  177.0  01/2025  47300  ... NaN NaN NaN NaN NaN NaN NaN  NaN NaN   N  \n",
      "15   177  177.0  01/2025  47300  ... NaN NaN NaN NaN NaN NaN NaN  NaN NaN   N  \n",
      "16   176  175.0  01/2025  47300  ... NaN NaN NaN NaN NaN NaN NaN  NaN NaN   N  \n",
      "..   ...    ...      ...    ...  ...  ..  ..  ..  ..  ..  ..  ..  ...  ..  ..  \n",
      "118   74   73.0  01/2025  47300  ... NaN NaN NaN NaN NaN NaN NaN  NaN NaN   N  \n",
      "119   73   72.0  01/2025  47300  ... NaN NaN NaN NaN NaN NaN NaN  NaN NaN   N  \n",
      "120   72   71.0  01/2025  47300  ... NaN NaN NaN NaN NaN NaN NaN  NaN NaN   N  \n",
      "121   71   71.0  01/2025  47300  ... NaN NaN NaN NaN NaN NaN NaN  NaN NaN   N  \n",
      "122   70   69.0  01/2025  47300  ... NaN NaN NaN NaN NaN NaN NaN  NaN NaN   N  \n",
      "\n",
      "[111 rows x 31 columns]\n"
     ]
    }
   ],
   "source": [
    "def show_id(idx, df):\n",
    "    holder = df['0'] == idx\n",
    "    return df[holder]\n",
    "\n",
    "print(show_id(idx, per_df))"
   ]
  },
  {
   "cell_type": "code",
   "execution_count": null,
   "metadata": {},
   "outputs": [],
   "source": []
  }
 ],
 "metadata": {
  "kernelspec": {
   "display_name": "Python 3",
   "language": "python",
   "name": "python3"
  },
  "language_info": {
   "codemirror_mode": {
    "name": "ipython",
    "version": 3
   },
   "file_extension": ".py",
   "mimetype": "text/x-python",
   "name": "python",
   "nbconvert_exporter": "python",
   "pygments_lexer": "ipython3",
   "version": "3.7.3"
  }
 },
 "nbformat": 4,
 "nbformat_minor": 4
}
