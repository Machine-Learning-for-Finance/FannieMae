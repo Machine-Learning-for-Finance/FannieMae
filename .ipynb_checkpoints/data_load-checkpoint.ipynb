{
 "cells": [
  {
   "cell_type": "code",
   "execution_count": 1,
   "metadata": {},
   "outputs": [],
   "source": [
    "import pandas as pd\n",
    "import numpy as np\n",
    "import matplotlib.pyplot as plt"
   ]
  },
  {
   "cell_type": "code",
   "execution_count": 2,
   "metadata": {},
   "outputs": [],
   "source": [
    "# https://pandas.pydata.org/pandas-docs/stable/reference/api/pandas.read_csv.html\n",
    "\n",
    "aq_df = pd.read_csv(\n",
    "    \"/data/FannieMae/2010Q1/Acquisition_2010Q1.txt\"\n",
    ")"
   ]
  },
  {
   "cell_type": "code",
   "execution_count": 3,
   "metadata": {},
   "outputs": [
    {
     "name": "stdout",
     "output_type": "stream",
     "text": [
      "Index(['100010079393|C|WELLS FARGO BANK', ' N.A.|4.875|284000|360|01/2010|03/2010|80|80|1|32|773|Y|P|PU|1|P|TX|787||FRM|||N'], dtype='object')\n"
     ]
    }
   ],
   "source": [
    "len(aq_df.columns[0])\n",
    "print(aq_df.columns)"
   ]
  },
  {
   "cell_type": "code",
   "execution_count": 65,
   "metadata": {},
   "outputs": [],
   "source": [
    "NAMES = {\n",
    "    0: \"loan_id\",\n",
    "    3: \"original_interest_rate\",\n",
    "    8: \"original_loan_to_value\",\n",
    "    11: \"debt_to_income\"\n",
    "}\n",
    "col_names = [\n",
    "    NAMES.get(idx, f\"{idx}\") for idx, _ in enumerate(range(25))\n",
    "]\n",
    "aq_df = pd.read_csv(\n",
    "    \"/data/FannieMae/2010Q1/Acquisition_2010Q1.txt\",\n",
    "    header=None,\n",
    "    names=col_names,\n",
    "    sep=\"|\"\n",
    ")"
   ]
  },
  {
   "cell_type": "code",
   "execution_count": 7,
   "metadata": {},
   "outputs": [
    {
     "name": "stdout",
     "output_type": "stream",
     "text": [
      "Index(['loan_id', '1', '2', 'original_interest_rate', '4', '5', '6', '7',\n",
      "       'original_loan_to_value', '9', '10', '11', '12', '13', '14', '15', '16',\n",
      "       '17', '18', '19', '20', '21', '22', '23', '24'],\n",
      "      dtype='object')\n"
     ]
    }
   ],
   "source": [
    "print(aq_df.columns)"
   ]
  },
  {
   "cell_type": "code",
   "execution_count": 8,
   "metadata": {},
   "outputs": [
    {
     "name": "stdout",
     "output_type": "stream",
     "text": [
      "Using ID: 100013622306\n"
     ]
    }
   ],
   "source": [
    "IDS = aq_df[\"loan_id\"]\n",
    "idx = IDS[1]\n",
    "print(f\"Using ID: {idx}\")"
   ]
  },
  {
   "cell_type": "code",
   "execution_count": 9,
   "metadata": {},
   "outputs": [],
   "source": [
    "NAMES = {\n",
    "    0: \"loan_id\",\n",
    "    15: \"forclosure_date\"\n",
    "}\n",
    "col_names = [\n",
    "    NAMES.get(idx, f\"{idx}\") for idx, _ in enumerate(range(31))\n",
    "]\n"
   ]
  },
  {
   "cell_type": "code",
   "execution_count": 10,
   "metadata": {},
   "outputs": [
    {
     "name": "stderr",
     "output_type": "stream",
     "text": [
      "/home/capcolabs/Environments/FannieData/venv/lib/python3.7/site-packages/IPython/core/interactiveshell.py:3058: DtypeWarning: Columns (14,15,16) have mixed types. Specify dtype option on import or set low_memory=False.\n",
      "  interactivity=interactivity, compiler=compiler, result=result)\n"
     ]
    }
   ],
   "source": [
    "per_df = pd.read_csv(\n",
    "    \"/data/FannieMae/2010Q1/Performance_2010Q1.txt\",\n",
    "    header=None,\n",
    "    names=col_names,\n",
    "    sep=\"|\"\n",
    ")"
   ]
  },
  {
   "cell_type": "code",
   "execution_count": 11,
   "metadata": {},
   "outputs": [
    {
     "data": {
      "text/html": [
       "<div>\n",
       "<style scoped>\n",
       "    .dataframe tbody tr th:only-of-type {\n",
       "        vertical-align: middle;\n",
       "    }\n",
       "\n",
       "    .dataframe tbody tr th {\n",
       "        vertical-align: top;\n",
       "    }\n",
       "\n",
       "    .dataframe thead th {\n",
       "        text-align: right;\n",
       "    }\n",
       "</style>\n",
       "<table border=\"1\" class=\"dataframe\">\n",
       "  <thead>\n",
       "    <tr style=\"text-align: right;\">\n",
       "      <th></th>\n",
       "      <th>loan_id</th>\n",
       "      <th>1</th>\n",
       "      <th>2</th>\n",
       "      <th>3</th>\n",
       "      <th>4</th>\n",
       "      <th>5</th>\n",
       "      <th>6</th>\n",
       "      <th>7</th>\n",
       "      <th>8</th>\n",
       "      <th>9</th>\n",
       "      <th>...</th>\n",
       "      <th>21</th>\n",
       "      <th>22</th>\n",
       "      <th>23</th>\n",
       "      <th>24</th>\n",
       "      <th>25</th>\n",
       "      <th>26</th>\n",
       "      <th>27</th>\n",
       "      <th>28</th>\n",
       "      <th>29</th>\n",
       "      <th>30</th>\n",
       "    </tr>\n",
       "  </thead>\n",
       "  <tbody>\n",
       "    <tr>\n",
       "      <td>loan_id</td>\n",
       "      <td>100010079393</td>\n",
       "      <td>02/01/2010</td>\n",
       "      <td>WELLS FARGO BANK, N.A.</td>\n",
       "      <td>4.875</td>\n",
       "      <td>NaN</td>\n",
       "      <td>0</td>\n",
       "      <td>360</td>\n",
       "      <td>360.0</td>\n",
       "      <td>02/2040</td>\n",
       "      <td>12420</td>\n",
       "      <td>...</td>\n",
       "      <td>NaN</td>\n",
       "      <td>NaN</td>\n",
       "      <td>NaN</td>\n",
       "      <td>NaN</td>\n",
       "      <td>NaN</td>\n",
       "      <td>NaN</td>\n",
       "      <td>NaN</td>\n",
       "      <td>NaN</td>\n",
       "      <td>NaN</td>\n",
       "      <td>N</td>\n",
       "    </tr>\n",
       "    <tr>\n",
       "      <td>1</td>\n",
       "      <td>100010079393</td>\n",
       "      <td>03/01/2010</td>\n",
       "      <td>NaN</td>\n",
       "      <td>4.875</td>\n",
       "      <td>NaN</td>\n",
       "      <td>1</td>\n",
       "      <td>359</td>\n",
       "      <td>358.0</td>\n",
       "      <td>02/2040</td>\n",
       "      <td>12420</td>\n",
       "      <td>...</td>\n",
       "      <td>NaN</td>\n",
       "      <td>NaN</td>\n",
       "      <td>NaN</td>\n",
       "      <td>NaN</td>\n",
       "      <td>NaN</td>\n",
       "      <td>NaN</td>\n",
       "      <td>NaN</td>\n",
       "      <td>NaN</td>\n",
       "      <td>NaN</td>\n",
       "      <td>N</td>\n",
       "    </tr>\n",
       "    <tr>\n",
       "      <td>2</td>\n",
       "      <td>100010079393</td>\n",
       "      <td>04/01/2010</td>\n",
       "      <td>NaN</td>\n",
       "      <td>4.875</td>\n",
       "      <td>NaN</td>\n",
       "      <td>2</td>\n",
       "      <td>358</td>\n",
       "      <td>358.0</td>\n",
       "      <td>02/2040</td>\n",
       "      <td>12420</td>\n",
       "      <td>...</td>\n",
       "      <td>NaN</td>\n",
       "      <td>NaN</td>\n",
       "      <td>NaN</td>\n",
       "      <td>NaN</td>\n",
       "      <td>NaN</td>\n",
       "      <td>NaN</td>\n",
       "      <td>NaN</td>\n",
       "      <td>NaN</td>\n",
       "      <td>NaN</td>\n",
       "      <td>N</td>\n",
       "    </tr>\n",
       "    <tr>\n",
       "      <td>3</td>\n",
       "      <td>100010079393</td>\n",
       "      <td>05/01/2010</td>\n",
       "      <td>NaN</td>\n",
       "      <td>4.875</td>\n",
       "      <td>NaN</td>\n",
       "      <td>3</td>\n",
       "      <td>357</td>\n",
       "      <td>357.0</td>\n",
       "      <td>02/2040</td>\n",
       "      <td>12420</td>\n",
       "      <td>...</td>\n",
       "      <td>NaN</td>\n",
       "      <td>NaN</td>\n",
       "      <td>NaN</td>\n",
       "      <td>NaN</td>\n",
       "      <td>NaN</td>\n",
       "      <td>NaN</td>\n",
       "      <td>NaN</td>\n",
       "      <td>NaN</td>\n",
       "      <td>NaN</td>\n",
       "      <td>N</td>\n",
       "    </tr>\n",
       "    <tr>\n",
       "      <td>4</td>\n",
       "      <td>100010079393</td>\n",
       "      <td>06/01/2010</td>\n",
       "      <td>NaN</td>\n",
       "      <td>4.875</td>\n",
       "      <td>NaN</td>\n",
       "      <td>4</td>\n",
       "      <td>356</td>\n",
       "      <td>355.0</td>\n",
       "      <td>02/2040</td>\n",
       "      <td>12420</td>\n",
       "      <td>...</td>\n",
       "      <td>NaN</td>\n",
       "      <td>NaN</td>\n",
       "      <td>NaN</td>\n",
       "      <td>NaN</td>\n",
       "      <td>NaN</td>\n",
       "      <td>NaN</td>\n",
       "      <td>NaN</td>\n",
       "      <td>NaN</td>\n",
       "      <td>NaN</td>\n",
       "      <td>N</td>\n",
       "    </tr>\n",
       "    <tr>\n",
       "      <td>...</td>\n",
       "      <td>...</td>\n",
       "      <td>...</td>\n",
       "      <td>...</td>\n",
       "      <td>...</td>\n",
       "      <td>...</td>\n",
       "      <td>...</td>\n",
       "      <td>...</td>\n",
       "      <td>...</td>\n",
       "      <td>...</td>\n",
       "      <td>...</td>\n",
       "      <td>...</td>\n",
       "      <td>...</td>\n",
       "      <td>...</td>\n",
       "      <td>...</td>\n",
       "      <td>...</td>\n",
       "      <td>...</td>\n",
       "      <td>...</td>\n",
       "      <td>...</td>\n",
       "      <td>...</td>\n",
       "      <td>...</td>\n",
       "      <td>...</td>\n",
       "    </tr>\n",
       "    <tr>\n",
       "      <td>18080687</td>\n",
       "      <td>999999167522</td>\n",
       "      <td>10/01/2011</td>\n",
       "      <td>NaN</td>\n",
       "      <td>5.250</td>\n",
       "      <td>405309.95</td>\n",
       "      <td>20</td>\n",
       "      <td>340</td>\n",
       "      <td>337.0</td>\n",
       "      <td>02/2040</td>\n",
       "      <td>36140</td>\n",
       "      <td>...</td>\n",
       "      <td>NaN</td>\n",
       "      <td>NaN</td>\n",
       "      <td>NaN</td>\n",
       "      <td>NaN</td>\n",
       "      <td>NaN</td>\n",
       "      <td>NaN</td>\n",
       "      <td>NaN</td>\n",
       "      <td>NaN</td>\n",
       "      <td>NaN</td>\n",
       "      <td>N</td>\n",
       "    </tr>\n",
       "    <tr>\n",
       "      <td>18080688</td>\n",
       "      <td>999999167522</td>\n",
       "      <td>11/01/2011</td>\n",
       "      <td>NaN</td>\n",
       "      <td>5.250</td>\n",
       "      <td>404780.49</td>\n",
       "      <td>21</td>\n",
       "      <td>339</td>\n",
       "      <td>336.0</td>\n",
       "      <td>02/2040</td>\n",
       "      <td>36140</td>\n",
       "      <td>...</td>\n",
       "      <td>NaN</td>\n",
       "      <td>NaN</td>\n",
       "      <td>NaN</td>\n",
       "      <td>NaN</td>\n",
       "      <td>NaN</td>\n",
       "      <td>NaN</td>\n",
       "      <td>NaN</td>\n",
       "      <td>NaN</td>\n",
       "      <td>NaN</td>\n",
       "      <td>N</td>\n",
       "    </tr>\n",
       "    <tr>\n",
       "      <td>18080689</td>\n",
       "      <td>999999167522</td>\n",
       "      <td>12/01/2011</td>\n",
       "      <td>NaN</td>\n",
       "      <td>5.250</td>\n",
       "      <td>404248.71</td>\n",
       "      <td>22</td>\n",
       "      <td>338</td>\n",
       "      <td>335.0</td>\n",
       "      <td>02/2040</td>\n",
       "      <td>36140</td>\n",
       "      <td>...</td>\n",
       "      <td>NaN</td>\n",
       "      <td>NaN</td>\n",
       "      <td>NaN</td>\n",
       "      <td>NaN</td>\n",
       "      <td>NaN</td>\n",
       "      <td>NaN</td>\n",
       "      <td>NaN</td>\n",
       "      <td>NaN</td>\n",
       "      <td>NaN</td>\n",
       "      <td>N</td>\n",
       "    </tr>\n",
       "    <tr>\n",
       "      <td>18080690</td>\n",
       "      <td>999999167522</td>\n",
       "      <td>01/01/2012</td>\n",
       "      <td>NaN</td>\n",
       "      <td>5.250</td>\n",
       "      <td>403714.61</td>\n",
       "      <td>23</td>\n",
       "      <td>337</td>\n",
       "      <td>334.0</td>\n",
       "      <td>02/2040</td>\n",
       "      <td>36140</td>\n",
       "      <td>...</td>\n",
       "      <td>NaN</td>\n",
       "      <td>NaN</td>\n",
       "      <td>NaN</td>\n",
       "      <td>NaN</td>\n",
       "      <td>NaN</td>\n",
       "      <td>NaN</td>\n",
       "      <td>NaN</td>\n",
       "      <td>NaN</td>\n",
       "      <td>NaN</td>\n",
       "      <td>N</td>\n",
       "    </tr>\n",
       "    <tr>\n",
       "      <td>18080691</td>\n",
       "      <td>999999167522</td>\n",
       "      <td>02/01/2012</td>\n",
       "      <td>NaN</td>\n",
       "      <td>5.250</td>\n",
       "      <td>403714.61</td>\n",
       "      <td>24</td>\n",
       "      <td>336</td>\n",
       "      <td>0.0</td>\n",
       "      <td>02/2040</td>\n",
       "      <td>36140</td>\n",
       "      <td>...</td>\n",
       "      <td>NaN</td>\n",
       "      <td>NaN</td>\n",
       "      <td>NaN</td>\n",
       "      <td>NaN</td>\n",
       "      <td>NaN</td>\n",
       "      <td>NaN</td>\n",
       "      <td>NaN</td>\n",
       "      <td>N</td>\n",
       "      <td>NaN</td>\n",
       "      <td>NaN</td>\n",
       "    </tr>\n",
       "  </tbody>\n",
       "</table>\n",
       "<p>18080692 rows × 31 columns</p>\n",
       "</div>"
      ],
      "text/plain": [
       "               loan_id           1                       2      3          4  \\\n",
       "loan_id   100010079393  02/01/2010  WELLS FARGO BANK, N.A.  4.875        NaN   \n",
       "1         100010079393  03/01/2010                     NaN  4.875        NaN   \n",
       "2         100010079393  04/01/2010                     NaN  4.875        NaN   \n",
       "3         100010079393  05/01/2010                     NaN  4.875        NaN   \n",
       "4         100010079393  06/01/2010                     NaN  4.875        NaN   \n",
       "...                ...         ...                     ...    ...        ...   \n",
       "18080687  999999167522  10/01/2011                     NaN  5.250  405309.95   \n",
       "18080688  999999167522  11/01/2011                     NaN  5.250  404780.49   \n",
       "18080689  999999167522  12/01/2011                     NaN  5.250  404248.71   \n",
       "18080690  999999167522  01/01/2012                     NaN  5.250  403714.61   \n",
       "18080691  999999167522  02/01/2012                     NaN  5.250  403714.61   \n",
       "\n",
       "           5    6      7        8      9  ...  21  22  23  24  25  26  27  \\\n",
       "loan_id    0  360  360.0  02/2040  12420  ... NaN NaN NaN NaN NaN NaN NaN   \n",
       "1          1  359  358.0  02/2040  12420  ... NaN NaN NaN NaN NaN NaN NaN   \n",
       "2          2  358  358.0  02/2040  12420  ... NaN NaN NaN NaN NaN NaN NaN   \n",
       "3          3  357  357.0  02/2040  12420  ... NaN NaN NaN NaN NaN NaN NaN   \n",
       "4          4  356  355.0  02/2040  12420  ... NaN NaN NaN NaN NaN NaN NaN   \n",
       "...       ..  ...    ...      ...    ...  ...  ..  ..  ..  ..  ..  ..  ..   \n",
       "18080687  20  340  337.0  02/2040  36140  ... NaN NaN NaN NaN NaN NaN NaN   \n",
       "18080688  21  339  336.0  02/2040  36140  ... NaN NaN NaN NaN NaN NaN NaN   \n",
       "18080689  22  338  335.0  02/2040  36140  ... NaN NaN NaN NaN NaN NaN NaN   \n",
       "18080690  23  337  334.0  02/2040  36140  ... NaN NaN NaN NaN NaN NaN NaN   \n",
       "18080691  24  336    0.0  02/2040  36140  ... NaN NaN NaN NaN NaN NaN NaN   \n",
       "\n",
       "           28  29   30  \n",
       "loan_id   NaN NaN    N  \n",
       "1         NaN NaN    N  \n",
       "2         NaN NaN    N  \n",
       "3         NaN NaN    N  \n",
       "4         NaN NaN    N  \n",
       "...       ...  ..  ...  \n",
       "18080687  NaN NaN    N  \n",
       "18080688  NaN NaN    N  \n",
       "18080689  NaN NaN    N  \n",
       "18080690  NaN NaN    N  \n",
       "18080691    N NaN  NaN  \n",
       "\n",
       "[18080692 rows x 31 columns]"
      ]
     },
     "execution_count": 11,
     "metadata": {},
     "output_type": "execute_result"
    }
   ],
   "source": [
    "per_df.rename(index=NAMES)"
   ]
  },
  {
   "cell_type": "code",
   "execution_count": 12,
   "metadata": {},
   "outputs": [
    {
     "name": "stdout",
     "output_type": "stream",
     "text": [
      "          loan_id           1                         2     3         4    5  \\\n",
      "12   100013622306  01/01/2010  JP MORGAN CHASE BANK, NA  4.75       NaN    0   \n",
      "13   100013622306  02/01/2010                       NaN  4.75       NaN    1   \n",
      "14   100013622306  03/01/2010                       NaN  4.75       NaN    2   \n",
      "15   100013622306  04/01/2010                       NaN  4.75       NaN    3   \n",
      "16   100013622306  05/01/2010                       NaN  4.75       NaN    4   \n",
      "..            ...         ...                       ...   ...       ...  ...   \n",
      "118  100013622306  11/01/2018                       NaN  4.75  42829.43  106   \n",
      "119  100013622306  12/01/2018                       NaN  4.75  42322.24  107   \n",
      "120  100013622306  01/01/2019                       NaN  4.75  41813.05  108   \n",
      "121  100013622306  02/01/2019                       NaN  4.75  41813.05  109   \n",
      "122  100013622306  03/01/2019                       NaN  4.75  40788.61  110   \n",
      "\n",
      "       6      7        8      9  ...  21  22  23  24  25  26  27   28  29  30  \n",
      "12   180  179.0  01/2025  47300  ... NaN NaN NaN NaN NaN NaN NaN  NaN NaN   N  \n",
      "13   179  178.0  01/2025  47300  ... NaN NaN NaN NaN NaN NaN NaN  NaN NaN   N  \n",
      "14   178  177.0  01/2025  47300  ... NaN NaN NaN NaN NaN NaN NaN  NaN NaN   N  \n",
      "15   177  177.0  01/2025  47300  ... NaN NaN NaN NaN NaN NaN NaN  NaN NaN   N  \n",
      "16   176  175.0  01/2025  47300  ... NaN NaN NaN NaN NaN NaN NaN  NaN NaN   N  \n",
      "..   ...    ...      ...    ...  ...  ..  ..  ..  ..  ..  ..  ..  ...  ..  ..  \n",
      "118   74   73.0  01/2025  47300  ... NaN NaN NaN NaN NaN NaN NaN  NaN NaN   N  \n",
      "119   73   72.0  01/2025  47300  ... NaN NaN NaN NaN NaN NaN NaN  NaN NaN   N  \n",
      "120   72   71.0  01/2025  47300  ... NaN NaN NaN NaN NaN NaN NaN  NaN NaN   N  \n",
      "121   71   71.0  01/2025  47300  ... NaN NaN NaN NaN NaN NaN NaN  NaN NaN   N  \n",
      "122   70   69.0  01/2025  47300  ... NaN NaN NaN NaN NaN NaN NaN  NaN NaN   N  \n",
      "\n",
      "[111 rows x 31 columns]\n"
     ]
    }
   ],
   "source": [
    "def show_id(idx, df):\n",
    "    holder = df['loan_id'] == idx\n",
    "    return df[holder]\n",
    "\n",
    "print(show_id(idx, per_df))"
   ]
  },
  {
   "cell_type": "code",
   "execution_count": 13,
   "metadata": {},
   "outputs": [
    {
     "data": {
      "text/plain": [
       "Index(['loan_id', '1', '2', '3', '4', '5', '6', '7', '8', '9', '10', '11',\n",
       "       '12', '13', '14', 'forclosure_date', '16', '17', '18', '19', '20', '21',\n",
       "       '22', '23', '24', '25', '26', '27', '28', '29', '30'],\n",
       "      dtype='object')"
      ]
     },
     "execution_count": 13,
     "metadata": {},
     "output_type": "execute_result"
    }
   ],
   "source": [
    "per_df.columns"
   ]
  },
  {
   "cell_type": "code",
   "execution_count": 14,
   "metadata": {},
   "outputs": [],
   "source": [
    "per_df['forclosure_date']\n",
    "\n",
    "holder = per_df['forclosure_date'].notna()\n",
    "\n",
    "forclosed = per_df[holder]"
   ]
  },
  {
   "cell_type": "code",
   "execution_count": 15,
   "metadata": {},
   "outputs": [
    {
     "data": {
      "text/plain": [
       "8569        11/01/2012\n",
       "13104       11/01/2016\n",
       "19511       03/01/2015\n",
       "24022       05/01/2016\n",
       "29452       12/01/2013\n",
       "               ...    \n",
       "18017360    10/01/2017\n",
       "18041186    06/01/2015\n",
       "18053790    04/01/2015\n",
       "18066632    11/01/2017\n",
       "18077778    01/01/2017\n",
       "Name: forclosure_date, Length: 1613, dtype: object"
      ]
     },
     "execution_count": 15,
     "metadata": {},
     "output_type": "execute_result"
    }
   ],
   "source": [
    "forclosed['forclosure_date']"
   ]
  },
  {
   "cell_type": "code",
   "execution_count": 17,
   "metadata": {},
   "outputs": [],
   "source": [
    "FORCLOSED = set(forclosed['loan_id'])"
   ]
  },
  {
   "cell_type": "code",
   "execution_count": 66,
   "metadata": {},
   "outputs": [],
   "source": [
    "# https://www.geeksforgeeks.org/adding-new-column-to-existing-dataframe-in-pandas/\n",
    "# https://stackoverflow.com/questions/26886653/pandas-create-new-column-based-on-values-from-other-columns\n",
    "\n",
    "def mapper(row):\n",
    "    return row['loan_id'] in FORCLOSED\n",
    "\n",
    "aq_df['forclosed'] = aq_df.apply(mapper, axis=1)"
   ]
  },
  {
   "cell_type": "markdown",
   "metadata": {},
   "source": [
    "# Now With Some Algorithms"
   ]
  },
  {
   "cell_type": "markdown",
   "metadata": {},
   "source": [
    "## Linear Regresssion"
   ]
  },
  {
   "cell_type": "code",
   "execution_count": 24,
   "metadata": {},
   "outputs": [],
   "source": [
    "# https://scikit-learn.org/stable/modules/generated/sklearn.linear_model.LinearRegression.html\n",
    "\n",
    "from sklearn.linear_model import LinearRegression"
   ]
  },
  {
   "cell_type": "code",
   "execution_count": 70,
   "metadata": {},
   "outputs": [],
   "source": [
    "X = aq_df['original_loan_to_value']\n",
    "X = np.array(X)\n",
    "X = X.reshape(-1, 1)\n",
    "y = aq_df['forclosed']\n",
    "y = np.array(y).astype(np.int)"
   ]
  },
  {
   "cell_type": "code",
   "execution_count": 71,
   "metadata": {},
   "outputs": [],
   "source": [
    "reg = LinearRegression().fit(X, y)"
   ]
  },
  {
   "cell_type": "code",
   "execution_count": 72,
   "metadata": {},
   "outputs": [
    {
     "data": {
      "text/plain": [
       "0.0017145677401712023"
      ]
     },
     "execution_count": 72,
     "metadata": {},
     "output_type": "execute_result"
    }
   ],
   "source": [
    "reg.score(X, y)"
   ]
  },
  {
   "cell_type": "markdown",
   "metadata": {},
   "source": [
    "## Logistic Regression"
   ]
  },
  {
   "cell_type": "code",
   "execution_count": 73,
   "metadata": {},
   "outputs": [],
   "source": [
    "# https://scikit-learn.org/stable/modules/generated/sklearn.linear_model.LogisticRegression.html\n",
    "from sklearn.linear_model import LogisticRegression"
   ]
  },
  {
   "cell_type": "code",
   "execution_count": 74,
   "metadata": {},
   "outputs": [],
   "source": [
    "clf = LogisticRegression(\n",
    "    random_state=0, solver='lbfgs',\n",
    "    multi_class='multinomial').fit(X, y)"
   ]
  },
  {
   "cell_type": "code",
   "execution_count": 75,
   "metadata": {},
   "outputs": [
    {
     "data": {
      "text/plain": [
       "0.995008880664905"
      ]
     },
     "execution_count": 75,
     "metadata": {},
     "output_type": "execute_result"
    }
   ],
   "source": [
    "clf.score(X, y)"
   ]
  },
  {
   "cell_type": "code",
   "execution_count": 53,
   "metadata": {},
   "outputs": [
    {
     "data": {
      "image/png": "[encoded data removed]",
      "text/plain": [
       "<Figure size 432x288 with 1 Axes>"
      ]
     },
     "metadata": {
      "needs_background": "light"
     },
     "output_type": "display_data"
    }
   ],
   "source": [
    "plt.scatter(X, y)\n",
    "plt.show()"
   ]
  },
  {
   "cell_type": "code",
   "execution_count": 115,
   "metadata": {},
   "outputs": [],
   "source": [
    "X = aq_df['original_loan_to_value']\n",
    "X = np.array(X)\n",
    "Z = zip(X,y)"
   ]
  },
  {
   "cell_type": "code",
   "execution_count": 116,
   "metadata": {},
   "outputs": [],
   "source": [
    "F, N = [], []\n",
    "for z in Z:\n",
    "    if z[1] == 1:\n",
    "        F.append(z[0])\n",
    "    else:\n",
    "        N.append(z[0])"
   ]
  },
  {
   "cell_type": "code",
   "execution_count": 117,
   "metadata": {},
   "outputs": [
    {
     "data": {
      "text/plain": [
       "(array([  4.,  35.,  70.,  97., 157., 186., 235., 335., 407.,  71.]),\n",
       " array([ 8. , 16.9, 25.8, 34.7, 43.6, 52.5, 61.4, 70.3, 79.2, 88.1, 97. ]),\n",
       " <a list of 10 Patch objects>)"
      ]
     },
     "execution_count": 117,
     "metadata": {},
     "output_type": "execute_result"
    },
    {
     "data": {
      "image/png": "[encoded data removed]",
      "text/plain": [
       "<Figure size 432x288 with 1 Axes>"
      ]
     },
     "metadata": {
      "needs_background": "light"
     },
     "output_type": "display_data"
    }
   ],
   "source": [
    "plt.hist(F)"
   ]
  },
  {
   "cell_type": "code",
   "execution_count": 118,
   "metadata": {},
   "outputs": [
    {
     "data": {
      "text/plain": [
       "(array([  416.,  3497., 11209., 17601., 29185., 36148., 48398., 69087.,\n",
       "        88306., 15004.]),\n",
       " array([ 2. , 11.5, 21. , 30.5, 40. , 49.5, 59. , 68.5, 78. , 87.5, 97. ]),\n",
       " <a list of 10 Patch objects>)"
      ]
     },
     "execution_count": 118,
     "metadata": {},
     "output_type": "execute_result"
    },
    {
     "data": {
      "image/png": "[encoded data removed]",
      "text/plain": [
       "<Figure size 432x288 with 1 Axes>"
      ]
     },
     "metadata": {
      "needs_background": "light"
     },
     "output_type": "display_data"
    }
   ],
   "source": [
    "plt.hist(N)"
   ]
  },
  {
   "cell_type": "markdown",
   "metadata": {},
   "source": [
    "https://stackoverflow.com/questions/6871201/plot-two-histograms-at-the-same-time-with-matplotlib"
   ]
  },
  {
   "cell_type": "code",
   "execution_count": 119,
   "metadata": {},
   "outputs": [
    {
     "data": {
      "image/png": "[encoded data removed]",
      "text/plain": [
       "<Figure size 432x288 with 1 Axes>"
      ]
     },
     "metadata": {
      "needs_background": "light"
     },
     "output_type": "display_data"
    }
   ],
   "source": [
    "import random\n",
    "import numpy\n",
    "from matplotlib import pyplot\n",
    "\n",
    "pyplot.hist(F, alpha=0.5, label='x')\n",
    "pyplot.hist(N, alpha=0.5, label='y')\n",
    "pyplot.legend(loc='upper right')\n",
    "pyplot.show()"
   ]
  },
  {
   "cell_type": "markdown",
   "metadata": {},
   "source": [
    "## Bringing In More Features"
   ]
  },
  {
   "cell_type": "code",
   "execution_count": 101,
   "metadata": {},
   "outputs": [],
   "source": [
    "X0 = aq_df['original_loan_to_value']\n",
    "X1 = aq_df['debt_to_income']\n",
    "\n",
    "F = aq_df['forclosed']\n",
    "\n",
    "# https://stackoverflow.com/questions/21231834/creating-a-pandas-dataframe-from-columns-of-other-dataframes-with-similar-indexe\n",
    "XH = pd.concat(\n",
    "    [aq_df['original_loan_to_value'], aq_df['debt_to_income'], aq_df['forclosed']], \n",
    "     keys=['original_loan_to_value', 'debt_to_income', 'forclosed']\n",
    ")\n",
    "\n",
    "HOLD = XH['debt_to_income'].notnull()\n",
    "\n",
    "XZ = zip(X0, X1, HOLD, F)\n",
    "\n",
    "X = []\n",
    "y = []\n",
    "\n",
    "for x0, x1, valid, f in XZ:\n",
    "    if valid:\n",
    "        X.append([x0, x1])\n",
    "        y.append(f)\n",
    "\n",
    "y = np.array(y).astype(np.int)"
   ]
  },
  {
   "cell_type": "code",
   "execution_count": 108,
   "metadata": {},
   "outputs": [],
   "source": [
    "lgr = LogisticRegression(\n",
    "    random_state=0, solver='lbfgs',\n",
    "    multi_class='multinomial').fit(X, y)"
   ]
  },
  {
   "cell_type": "code",
   "execution_count": 109,
   "metadata": {},
   "outputs": [
    {
     "data": {
      "text/plain": [
       "0.9950163521070501"
      ]
     },
     "execution_count": 109,
     "metadata": {},
     "output_type": "execute_result"
    }
   ],
   "source": [
    "lgr.score(X, y)"
   ]
  },
  {
   "cell_type": "code",
   "execution_count": 79,
   "metadata": {},
   "outputs": [
    {
     "name": "stderr",
     "output_type": "stream",
     "text": [
      "/home/capcolabs/Environments/FannieData/venv/lib/python3.7/site-packages/numpy/lib/histograms.py:829: RuntimeWarning: invalid value encountered in greater_equal\n",
      "  keep = (tmp_a >= first_edge)\n",
      "/home/capcolabs/Environments/FannieData/venv/lib/python3.7/site-packages/numpy/lib/histograms.py:830: RuntimeWarning: invalid value encountered in less_equal\n",
      "  keep &= (tmp_a <= last_edge)\n"
     ]
    },
    {
     "data": {
      "text/plain": [
       "(array([ 1423.,  9397., 28202., 56592., 56993., 57993., 62074., 28283.,\n",
       "        13438.,  6053.]),\n",
       " array([ 1. ,  7.3, 13.6, 19.9, 26.2, 32.5, 38.8, 45.1, 51.4, 57.7, 64. ]),\n",
       " <a list of 10 Patch objects>)"
      ]
     },
     "execution_count": 79,
     "metadata": {},
     "output_type": "execute_result"
    },
    {
     "data": {
      "image/png": "[encoded data removed]",
      "text/plain": [
       "<Figure size 432x288 with 1 Axes>"
      ]
     },
     "metadata": {
      "needs_background": "light"
     },
     "output_type": "display_data"
    }
   ],
   "source": [
    "plt.hist(X1)"
   ]
  },
  {
   "cell_type": "markdown",
   "metadata": {},
   "source": [
    "## Decision Tree"
   ]
  },
  {
   "cell_type": "code",
   "execution_count": 104,
   "metadata": {},
   "outputs": [],
   "source": [
    "# https://scikit-learn.org/stable/modules/generated/sklearn.tree.DecisionTreeClassifier.html\n",
    "\n",
    "from sklearn.tree import DecisionTreeClassifier"
   ]
  },
  {
   "cell_type": "code",
   "execution_count": 110,
   "metadata": {},
   "outputs": [
    {
     "data": {
      "text/plain": [
       "DecisionTreeClassifier(class_weight=None, criterion='gini', max_depth=None,\n",
       "                       max_features=None, max_leaf_nodes=None,\n",
       "                       min_impurity_decrease=0.0, min_impurity_split=None,\n",
       "                       min_samples_leaf=1, min_samples_split=2,\n",
       "                       min_weight_fraction_leaf=0.0, presort=False,\n",
       "                       random_state=0, splitter='best')"
      ]
     },
     "execution_count": 110,
     "metadata": {},
     "output_type": "execute_result"
    }
   ],
   "source": [
    "dtc = DecisionTreeClassifier(random_state=0)\n",
    "dtc.fit(X,y)"
   ]
  },
  {
   "cell_type": "code",
   "execution_count": 111,
   "metadata": {},
   "outputs": [
    {
     "data": {
      "text/plain": [
       "0.995022593369283"
      ]
     },
     "execution_count": 111,
     "metadata": {},
     "output_type": "execute_result"
    }
   ],
   "source": [
    "dtc.score(X,y)"
   ]
  },
  {
   "cell_type": "code",
   "execution_count": null,
   "metadata": {},
   "outputs": [],
   "source": []
  }
 ],
 "metadata": {
  "kernelspec": {
   "display_name": "Python 3",
   "language": "python",
   "name": "python3"
  },
  "language_info": {
   "codemirror_mode": {
    "name": "ipython",
    "version": 3
   },
   "file_extension": ".py",
   "mimetype": "text/x-python",
   "name": "python",
   "nbconvert_exporter": "python",
   "pygments_lexer": "ipython3",
   "version": "3.7.3"
  }
 },
 "nbformat": 4,
 "nbformat_minor": 4
}
